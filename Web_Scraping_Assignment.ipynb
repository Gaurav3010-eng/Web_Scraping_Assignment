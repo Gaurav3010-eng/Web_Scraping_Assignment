{
 "cells": [
  {
   "cell_type": "code",
   "execution_count": 1,
   "id": "bb780147-c008-4841-8206-038d95e146aa",
   "metadata": {},
   "outputs": [
    {
     "name": "stdout",
     "output_type": "stream",
     "text": [
      "Requirement already satisfied: requests in c:\\users\\gaurav rane\\anaconda3\\lib\\site-packages (2.31.0)\n",
      "Requirement already satisfied: beautifulsoup4 in c:\\users\\gaurav rane\\anaconda3\\lib\\site-packages (4.12.2)\n",
      "Requirement already satisfied: pandas in c:\\users\\gaurav rane\\anaconda3\\lib\\site-packages (2.1.4)\n",
      "Requirement already satisfied: charset-normalizer<4,>=2 in c:\\users\\gaurav rane\\anaconda3\\lib\\site-packages (from requests) (2.0.4)\n",
      "Requirement already satisfied: idna<4,>=2.5 in c:\\users\\gaurav rane\\anaconda3\\lib\\site-packages (from requests) (3.4)\n",
      "Requirement already satisfied: urllib3<3,>=1.21.1 in c:\\users\\gaurav rane\\anaconda3\\lib\\site-packages (from requests) (2.0.7)\n",
      "Requirement already satisfied: certifi>=2017.4.17 in c:\\users\\gaurav rane\\anaconda3\\lib\\site-packages (from requests) (2024.2.2)\n",
      "Requirement already satisfied: soupsieve>1.2 in c:\\users\\gaurav rane\\anaconda3\\lib\\site-packages (from beautifulsoup4) (2.5)\n",
      "Requirement already satisfied: numpy<2,>=1.23.2 in c:\\users\\gaurav rane\\anaconda3\\lib\\site-packages (from pandas) (1.26.4)\n",
      "Requirement already satisfied: python-dateutil>=2.8.2 in c:\\users\\gaurav rane\\anaconda3\\lib\\site-packages (from pandas) (2.8.2)\n",
      "Requirement already satisfied: pytz>=2020.1 in c:\\users\\gaurav rane\\anaconda3\\lib\\site-packages (from pandas) (2023.3.post1)\n",
      "Requirement already satisfied: tzdata>=2022.1 in c:\\users\\gaurav rane\\anaconda3\\lib\\site-packages (from pandas) (2023.3)\n",
      "Requirement already satisfied: six>=1.5 in c:\\users\\gaurav rane\\anaconda3\\lib\\site-packages (from python-dateutil>=2.8.2->pandas) (1.16.0)\n",
      "Note: you may need to restart the kernel to use updated packages.\n"
     ]
    }
   ],
   "source": [
    "pip install requests beautifulsoup4 pandas\n"
   ]
  },
  {
   "cell_type": "code",
   "execution_count": 2,
   "id": "60a1cde6-e277-44d1-9c31-df36cfcc5816",
   "metadata": {},
   "outputs": [],
   "source": [
    "imdb_url = 'https://www.imdb.com/title/tt0111161/fullcredits'  #URL\n"
   ]
  },
  {
   "cell_type": "code",
   "execution_count": 23,
   "id": "7badcafc-51f9-462b-80a2-4604392968d2",
   "metadata": {},
   "outputs": [
    {
     "name": "stdout",
     "output_type": "stream",
     "text": [
      "Wikipedia data saved to us_states_population.csv\n"
     ]
    }
   ],
   "source": [
    "wiki_url = 'https://en.wikipedia.org/wiki/List_of_states_and_territories_of_the_United_States'\n",
    "\n",
    "import requests\n",
    "from bs4 import BeautifulSoup\n",
    "import pandas as pd\n",
    "\n",
    "# Wikipedia URL\n",
    "wiki_url = 'https://en.wikipedia.org/wiki/List_of_states_and_territories_of_the_United_States'\n",
    "\n",
    "# Fetching the webpage\n",
    "response = requests.get(wiki_url)\n",
    "soup = BeautifulSoup(response.text, 'html.parser')\n",
    "\n",
    "# find the table\n",
    "table = soup.find('table', {'class': 'wikitable sortable plainrowheaders'})\n",
    "\n",
    "# Check if the table is found and proceed\n",
    "if table:\n",
    "    headers = [header.text.strip() for header in table.find_all('th')]\n",
    "    rows = table.find_all('tr')\n",
    "\n",
    "    table_data = []\n",
    "    for row in rows[1:]:\n",
    "        cols = row.find_all('td')\n",
    "        if len(cols) > 1:\n",
    "            state_name = cols[0].text.strip()\n",
    "            population = cols[2].text.strip()  # Adjust index based on actual column position\n",
    "            table_data.append({'State': state_name, 'Population': population})\n",
    "\n",
    "    # Convert to DataFrame\n",
    "    df_wiki = pd.DataFrame(table_data)\n",
    "\n",
    "    # Display the DataFrame\n",
    "    df_wiki.head()\n",
    "\n",
    "    # CSV files\n",
    "    df_wiki.to_csv('us_states_population.csv', index=False)\n",
    "    print(\"Wikipedia data saved to us_states_population.csv\")\n",
    "else:\n",
    "    print(\"Table not found. Please check the HTML structure and class name.\")\n",
    "\n"
   ]
  },
  {
   "cell_type": "code",
   "execution_count": 25,
   "id": "419cc77d-4578-49cd-be7a-10d28c3cf3ff",
   "metadata": {},
   "outputs": [
    {
     "name": "stdout",
     "output_type": "stream",
     "text": [
      "['.anaconda', '.bash_history', '.conda', '.condarc', '.continuum', '.gitconfig', '.ipynb_checkpoints', '.ipython', '.jupyter', '.lesshst', 'anaconda3', 'AppData', 'Application Data', 'Contacts', 'Cookies', 'Desktop', 'Documents', 'Downloads', 'Favorites', 'imdb_cast.csv', 'Links', 'Local Settings', 'Music', 'My Documents', 'NetHood', 'NTUSER.DAT', 'ntuser.dat.LOG1', 'ntuser.dat.LOG2', 'NTUSER.DAT{a2332f18-cdbf-11ec-8680-002248483d79}.TM.blf', 'NTUSER.DAT{a2332f18-cdbf-11ec-8680-002248483d79}.TMContainer00000000000000000001.regtrans-ms', 'NTUSER.DAT{a2332f18-cdbf-11ec-8680-002248483d79}.TMContainer00000000000000000002.regtrans-ms', 'ntuser.ini', 'OneDrive', 'Pictures', 'PrintHood', 'Recent', 'Saved Games', 'Searches', 'SendTo', 'stackoverflow-scraper', 'stackoverflow_scraper.ipynb', 'Start Menu', 'Templates', 'Untitled.ipynb', 'us_states_population.csv', 'Videos', 'Web_Scraping_Assignment.ipynb']\n",
      "IMDB Cast Data:\n",
      "                                               Movie           Actor  \\\n",
      "0  The Shawshank Redemption \\n                 (1...     Tim Robbins   \n",
      "1  The Shawshank Redemption \\n                 (1...  Morgan Freeman   \n",
      "2  The Shawshank Redemption \\n                 (1...      Bob Gunton   \n",
      "3  The Shawshank Redemption \\n                 (1...  William Sadler   \n",
      "4  The Shawshank Redemption \\n                 (1...    Clancy Brown   \n",
      "\n",
      "                  Character  \n",
      "0             Andy Dufresne  \n",
      "1  Ellis Boyd 'Red' Redding  \n",
      "2             Warden Norton  \n",
      "3                   Heywood  \n",
      "4            Captain Hadley  \n",
      "US States Population Data:\n",
      "  State  Population\n",
      "0    AS        1900\n",
      "1    GU        1899\n",
      "2    MP        1986\n",
      "3    PR        1899\n",
      "4    VI        1917\n"
     ]
    }
   ],
   "source": [
    "import os\n",
    "\n",
    "# files directory\n",
    "print(os.listdir('.'))\n",
    "\n",
    "# Read and display IMDB CSV file\n",
    "df_imdb = pd.read_csv('imdb_cast.csv')\n",
    "print(\"IMDB Cast Data:\")\n",
    "print(df_imdb.head())\n",
    "\n",
    "# Read and display Wikipedia CSV file\n",
    "df_wiki = pd.read_csv('us_states_population.csv')\n",
    "print(\"US States Population Data:\")\n",
    "print(df_wiki.head())"
   ]
  },
  {
   "cell_type": "code",
   "execution_count": null,
   "id": "0f3af2dd-36c1-4080-ac8a-c85ba579f7ed",
   "metadata": {},
   "outputs": [],
   "source": []
  }
 ],
 "metadata": {
  "kernelspec": {
   "display_name": "Python 3 (ipykernel)",
   "language": "python",
   "name": "python3"
  },
  "language_info": {
   "codemirror_mode": {
    "name": "ipython",
    "version": 3
   },
   "file_extension": ".py",
   "mimetype": "text/x-python",
   "name": "python",
   "nbconvert_exporter": "python",
   "pygments_lexer": "ipython3",
   "version": "3.11.7"
  }
 },
 "nbformat": 4,
 "nbformat_minor": 5
}
